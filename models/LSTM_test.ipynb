{
 "cells": [
  {
   "cell_type": "code",
   "execution_count": 1,
   "metadata": {},
   "outputs": [
    {
     "name": "stdout",
     "output_type": "stream",
     "text": [
      "2651\n"
     ]
    },
    {
     "data": {
      "text/html": [
       "<div>\n",
       "<style scoped>\n",
       "    .dataframe tbody tr th:only-of-type {\n",
       "        vertical-align: middle;\n",
       "    }\n",
       "\n",
       "    .dataframe tbody tr th {\n",
       "        vertical-align: top;\n",
       "    }\n",
       "\n",
       "    .dataframe thead th {\n",
       "        text-align: right;\n",
       "    }\n",
       "</style>\n",
       "<table border=\"1\" class=\"dataframe\">\n",
       "  <thead>\n",
       "    <tr style=\"text-align: right;\">\n",
       "      <th></th>\n",
       "      <th>Timestamp</th>\n",
       "      <th>Close</th>\n",
       "      <th>Open</th>\n",
       "      <th>High</th>\n",
       "      <th>Low</th>\n",
       "    </tr>\n",
       "  </thead>\n",
       "  <tbody>\n",
       "    <tr>\n",
       "      <th>2646</th>\n",
       "      <td>2021-01-08</td>\n",
       "      <td>39713.507857</td>\n",
       "      <td>36806.419755</td>\n",
       "      <td>40324.014033</td>\n",
       "      <td>36356.430756</td>\n",
       "    </tr>\n",
       "    <tr>\n",
       "      <th>2647</th>\n",
       "      <td>2021-01-09</td>\n",
       "      <td>40519.448598</td>\n",
       "      <td>39420.800696</td>\n",
       "      <td>41962.362125</td>\n",
       "      <td>36741.330177</td>\n",
       "    </tr>\n",
       "    <tr>\n",
       "      <th>2648</th>\n",
       "      <td>2021-01-10</td>\n",
       "      <td>40258.923989</td>\n",
       "      <td>40558.102123</td>\n",
       "      <td>41375.430681</td>\n",
       "      <td>38766.276161</td>\n",
       "    </tr>\n",
       "    <tr>\n",
       "      <th>2649</th>\n",
       "      <td>2021-01-11</td>\n",
       "      <td>38709.765375</td>\n",
       "      <td>40096.333202</td>\n",
       "      <td>41186.523430</td>\n",
       "      <td>34897.550466</td>\n",
       "    </tr>\n",
       "    <tr>\n",
       "      <th>2650</th>\n",
       "      <td>2021-01-12</td>\n",
       "      <td>34409.642375</td>\n",
       "      <td>38132.535794</td>\n",
       "      <td>38204.754410</td>\n",
       "      <td>30305.300045</td>\n",
       "    </tr>\n",
       "  </tbody>\n",
       "</table>\n",
       "</div>"
      ],
      "text/plain": [
       "       Timestamp         Close          Open          High           Low\n",
       "2646  2021-01-08  39713.507857  36806.419755  40324.014033  36356.430756\n",
       "2647  2021-01-09  40519.448598  39420.800696  41962.362125  36741.330177\n",
       "2648  2021-01-10  40258.923989  40558.102123  41375.430681  38766.276161\n",
       "2649  2021-01-11  38709.765375  40096.333202  41186.523430  34897.550466\n",
       "2650  2021-01-12  34409.642375  38132.535794  38204.754410  30305.300045"
      ]
     },
     "execution_count": 1,
     "metadata": {},
     "output_type": "execute_result"
    }
   ],
   "source": [
    "import pandas as pd\n",
    "import numpy as np\n",
    "import matplotlib.pyplot as plt\n",
    "\n",
    "df = pd.read_csv('coin_desk_data.csv', encoding='utf-8-sig')\n",
    "print(len(df))\n",
    "df.tail()"
   ]
  },
  {
   "cell_type": "code",
   "execution_count": 2,
   "metadata": {
    "scrolled": true
   },
   "outputs": [
    {
     "data": {
      "image/png": "[encoded data removed]",
      "text/plain": [
       "<Figure size 432x288 with 1 Axes>"
      ]
     },
     "metadata": {
      "needs_background": "light"
     },
     "output_type": "display_data"
    }
   ],
   "source": [
    "%matplotlib inline\n",
    "plt.plot(df['Close'])\n",
    "data = df.filter(['Close']).values"
   ]
  },
  {
   "cell_type": "markdown",
   "metadata": {},
   "source": [
    "# Feature Scaling\n",
    "\n",
    "* (X - min(X)) / ((max(X) - min(X))"
   ]
  },
  {
   "cell_type": "code",
   "execution_count": 3,
   "metadata": {},
   "outputs": [
    {
     "data": {
      "text/plain": [
       "array([[3.72923481e-04],\n",
       "       [4.17466207e-04],\n",
       "       [0.00000000e+00],\n",
       "       ...,\n",
       "       [9.93553105e-01],\n",
       "       [9.55217903e-01],\n",
       "       [8.48807829e-01]])"
      ]
     },
     "execution_count": 3,
     "metadata": {},
     "output_type": "execute_result"
    }
   ],
   "source": [
    "from sklearn.preprocessing import MinMaxScaler\n",
    "\n",
    "scaler = MinMaxScaler(feature_range=(0, 1))  # to avoid diversion and zero convergence \n",
    "                                             # 0 <= x <= 1, 0 <= y <= 1\n",
    "                                             # cf. Standardization(Z-score)\n",
    "scaled_data = scaler.fit_transform(data)\n",
    "scaled_data"
   ]
  },
  {
   "cell_type": "code",
   "execution_count": 4,
   "metadata": {},
   "outputs": [
    {
     "data": {
      "text/plain": [
       "array([[0.00037292],\n",
       "       [0.00041747],\n",
       "       [0.        ],\n",
       "       ...,\n",
       "       [0.17937901],\n",
       "       [0.18104412],\n",
       "       [0.18070922]])"
      ]
     },
     "execution_count": 4,
     "metadata": {},
     "output_type": "execute_result"
    }
   ],
   "source": [
    "import math\n",
    "\n",
    "training_data_size = math.ceil(len(scaled_data) * 0.66)  # math.ceil: round ceiling function\n",
    "                                                         # ex. math.ceil(1.2) = 2\n",
    "                                                         # ex. math.ceil(-4.5) = -4\n",
    "                                                         # ex. math.ceil(10.9) = 11\n",
    "train_data = scaled_data[0: training_data_size]\n",
    "train_data"
   ]
  },
  {
   "cell_type": "code",
   "execution_count": 5,
   "metadata": {},
   "outputs": [],
   "source": [
    "x_train, y_train = [], []\n",
    "set_size = 10\n",
    "\n",
    "for i in range(set_size, len(train_data)):\n",
    "    x_train.append(train_data[i - set_size: i, 0])\n",
    "    y_train.append(train_data[i, 0])"
   ]
  },
  {
   "cell_type": "code",
   "execution_count": 6,
   "metadata": {},
   "outputs": [
    {
     "data": {
      "text/plain": [
       "(1740, 10, 1)"
      ]
     },
     "execution_count": 6,
     "metadata": {},
     "output_type": "execute_result"
    }
   ],
   "source": [
    "x_train, y_train = np.array(x_train), np.array(y_train)\n",
    "x_train = np.reshape(x_train, (x_train.shape[0], x_train.shape[1], 1))\n",
    "x_train.shape"
   ]
  },
  {
   "cell_type": "code",
   "execution_count": 7,
   "metadata": {},
   "outputs": [
    {
     "data": {
      "text/plain": [
       "10"
      ]
     },
     "execution_count": 7,
     "metadata": {},
     "output_type": "execute_result"
    }
   ],
   "source": [
    "from keras.models import Sequential\n",
    "from keras.layers import Dense, LSTM\n",
    "\n",
    "x_train.shape[1]"
   ]
  },
  {
   "cell_type": "markdown",
   "metadata": {},
   "source": [
    "# Dense Layer\n",
    "NN(Neural Network) Layer that connects input layer with output layer.   \n",
    "You can find more info here: [https://keras.io/api/layers/core_layers/dense/](https://keras.io/api/layers/core_layers/dense/)\n",
    "\n",
    "* options   \n",
    "\n",
    "        __init__ (\n",
    "            units,\n",
    "            activation = None,\n",
    "            use_bias = True,\n",
    "            kernel_initializer = 'glorot_uniform',\n",
    "            bias_iniotializer = 'zeros',\n",
    "            kernel_regularizer = None, \n",
    "            bias_regularizer = None,\n",
    "            activity_regularizer = None,\n",
    "            kernel_constraint = None,\n",
    "            bias_constraint = None,\n",
    "            **kwargs\n",
    "            )\n"
   ]
  },
  {
   "cell_type": "markdown",
   "metadata": {},
   "source": [
    "# 1. Activation Function\n",
    "### In Hidden Layer\n",
    "* ReLU\n",
    "    * solve gradient vanishing problem\n",
    "* Leaky ReLU\n",
    "    * solve gradient vanishing problem\n",
    "\n",
    "### In Ouput Layer\n",
    "* (None)\n",
    "    * regression\n",
    "* Sigmoid\n",
    "    * binary classification\n",
    "* Softmax\n",
    "    * multi classification\n",
    "\n",
    "# 2. Optimizer \n",
    "* SGD\n",
    "* Adam\n",
    "* RMSprop\n",
    "\n",
    "# 3. Loss Function \n",
    "* MSE(Mean Squared Error)\n",
    "* RMSE(Root Mean Squared Error)"
   ]
  },
  {
   "cell_type": "code",
   "execution_count": 17,
   "metadata": {},
   "outputs": [],
   "source": [
    "# 1. by adding layers\n",
    "# model_lstm = Sequential()  # makes layers in a linear form\n",
    "# model_lstm.add(LSTM(50, return_sequences=True, input_shape=(x_train.shape[1], 1)))\n",
    "# model_lstm.add(LSTM(50, return_sequences=False))\n",
    "# model_lstm.add(Dense(25))\n",
    "# model_lstm.add(Dense(1))\n",
    "\n",
    "# 2. by making layer instance\n",
    "model_lstm = Sequential([\n",
    "    LSTM(50, return_sequences=True, input_shape=(x_train.shape[1], 1)),  # first layer needs input_shape\n",
    "                                                                         # input layer\n",
    "                                                                         # 'input_shape=(1,)' == 'input_dim=1'\n",
    "    LSTM(50, return_sequences=False),\n",
    "    Dense(units=25), # hidden layer. units: batch_size\n",
    "    Dense(units=1)   # output layer\n",
    "])\n",
    "\n",
    "model_lstm.compile(optimizer='adam', loss='mean_squared_error')  # method: optimizer, objective: loss"
   ]
  },
  {
   "cell_type": "code",
   "execution_count": 9,
   "metadata": {},
   "outputs": [
    {
     "name": "stdout",
     "output_type": "stream",
     "text": [
      "(None, 10, 1)\n",
      "(None, 1)\n"
     ]
    }
   ],
   "source": [
    "print(model_lstm.input_shape)\n",
    "print(model_lstm.output_shape)"
   ]
  },
  {
   "cell_type": "code",
   "execution_count": 10,
   "metadata": {},
   "outputs": [
    {
     "name": "stdout",
     "output_type": "stream",
     "text": [
      "Model: \"sequential\"\n",
      "_________________________________________________________________\n",
      "Layer (type)                 Output Shape              Param #   \n",
      "=================================================================\n",
      "lstm (LSTM)                  (None, 10, 50)            10400     \n",
      "_________________________________________________________________\n",
      "lstm_1 (LSTM)                (None, 50)                20200     \n",
      "_________________________________________________________________\n",
      "dense (Dense)                (None, 25)                1275      \n",
      "_________________________________________________________________\n",
      "dense_1 (Dense)              (None, 1)                 26        \n",
      "=================================================================\n",
      "Total params: 31,901\n",
      "Trainable params: 31,901\n",
      "Non-trainable params: 0\n",
      "_________________________________________________________________\n"
     ]
    }
   ],
   "source": [
    "model_lstm.summary()"
   ]
  },
  {
   "cell_type": "code",
   "execution_count": 11,
   "metadata": {},
   "outputs": [
    {
     "name": "stdout",
     "output_type": "stream",
     "text": [
      "1740/1740 [==============================] - 8s 5ms/step - loss: 4.2504e-04\n"
     ]
    },
    {
     "data": {
      "text/plain": [
       "<tensorflow.python.keras.callbacks.History at 0x7ffac368a9a0>"
      ]
     },
     "execution_count": 11,
     "metadata": {},
     "output_type": "execute_result"
    }
   ],
   "source": [
    "model_lstm.fit(x_train, y_train, batch_size=1, epochs=1)"
   ]
  },
  {
   "cell_type": "code",
   "execution_count": 12,
   "metadata": {},
   "outputs": [],
   "source": [
    "test_data = scaled_data[training_data_size - set_size:, :]\n",
    "\n",
    "x_test = []\n",
    "y_test = data[training_data_size:, :]\n",
    "\n",
    "for i in range(set_size, len(test_data)):\n",
    "    x_test.append(test_data[i - set_size: i, 0])"
   ]
  },
  {
   "cell_type": "code",
   "execution_count": 13,
   "metadata": {},
   "outputs": [],
   "source": [
    "x_test = np.array(x_test)\n",
    "x_test = np.reshape(x_test, (x_test.shape[0], x_test.shape[1], 1))"
   ]
  },
  {
   "cell_type": "code",
   "execution_count": 14,
   "metadata": {},
   "outputs": [
    {
     "data": {
      "text/plain": [
       "629.195860346725"
      ]
     },
     "execution_count": 14,
     "metadata": {},
     "output_type": "execute_result"
    }
   ],
   "source": [
    "predictions = model_lstm.predict(x_test)\n",
    "\n",
    "# unscaling\n",
    "predictions = scaler.inverse_transform(predictions)\n",
    "\n",
    "rmse = np.sqrt(np.mean(predictions - y_test)**2)\n",
    "rmse"
   ]
  },
  {
   "cell_type": "code",
   "execution_count": 15,
   "metadata": {},
   "outputs": [
    {
     "name": "stderr",
     "output_type": "stream",
     "text": [
      "<ipython-input-15-408a547ab8f3>:5: SettingWithCopyWarning: \n",
      "A value is trying to be set on a copy of a slice from a DataFrame.\n",
      "Try using .loc[row_indexer,col_indexer] = value instead\n",
      "\n",
      "See the caveats in the documentation: https://pandas.pydata.org/pandas-docs/stable/user_guide/indexing.html#returning-a-view-versus-a-copy\n",
      "  valid['Predictions'] = predictions\n"
     ]
    },
    {
     "data": {
      "text/html": [
       "<div>\n",
       "<style scoped>\n",
       "    .dataframe tbody tr th:only-of-type {\n",
       "        vertical-align: middle;\n",
       "    }\n",
       "\n",
       "    .dataframe tbody tr th {\n",
       "        vertical-align: top;\n",
       "    }\n",
       "\n",
       "    .dataframe thead th {\n",
       "        text-align: right;\n",
       "    }\n",
       "</style>\n",
       "<table border=\"1\" class=\"dataframe\">\n",
       "  <thead>\n",
       "    <tr style=\"text-align: right;\">\n",
       "      <th></th>\n",
       "      <th>Close</th>\n",
       "      <th>Predictions</th>\n",
       "    </tr>\n",
       "  </thead>\n",
       "  <tbody>\n",
       "    <tr>\n",
       "      <th>1750</th>\n",
       "      <td>7730.247480</td>\n",
       "      <td>7865.032227</td>\n",
       "    </tr>\n",
       "    <tr>\n",
       "      <th>1751</th>\n",
       "      <td>8325.801534</td>\n",
       "      <td>8012.483887</td>\n",
       "    </tr>\n",
       "    <tr>\n",
       "      <th>1752</th>\n",
       "      <td>8271.597920</td>\n",
       "      <td>8212.394531</td>\n",
       "    </tr>\n",
       "    <tr>\n",
       "      <th>1753</th>\n",
       "      <td>7925.247396</td>\n",
       "      <td>8414.727539</td>\n",
       "    </tr>\n",
       "    <tr>\n",
       "      <th>1754</th>\n",
       "      <td>8254.277348</td>\n",
       "      <td>8555.290039</td>\n",
       "    </tr>\n",
       "    <tr>\n",
       "      <th>...</th>\n",
       "      <td>...</td>\n",
       "      <td>...</td>\n",
       "    </tr>\n",
       "    <tr>\n",
       "      <th>2646</th>\n",
       "      <td>39713.507857</td>\n",
       "      <td>31071.488281</td>\n",
       "    </tr>\n",
       "    <tr>\n",
       "      <th>2647</th>\n",
       "      <td>40519.448598</td>\n",
       "      <td>32163.126953</td>\n",
       "    </tr>\n",
       "    <tr>\n",
       "      <th>2648</th>\n",
       "      <td>40258.923989</td>\n",
       "      <td>33278.109375</td>\n",
       "    </tr>\n",
       "    <tr>\n",
       "      <th>2649</th>\n",
       "      <td>38709.765375</td>\n",
       "      <td>34205.195312</td>\n",
       "    </tr>\n",
       "    <tr>\n",
       "      <th>2650</th>\n",
       "      <td>34409.642375</td>\n",
       "      <td>34817.863281</td>\n",
       "    </tr>\n",
       "  </tbody>\n",
       "</table>\n",
       "<p>901 rows × 2 columns</p>\n",
       "</div>"
      ],
      "text/plain": [
       "             Close   Predictions\n",
       "1750   7730.247480   7865.032227\n",
       "1751   8325.801534   8012.483887\n",
       "1752   8271.597920   8212.394531\n",
       "1753   7925.247396   8414.727539\n",
       "1754   8254.277348   8555.290039\n",
       "...            ...           ...\n",
       "2646  39713.507857  31071.488281\n",
       "2647  40519.448598  32163.126953\n",
       "2648  40258.923989  33278.109375\n",
       "2649  38709.765375  34205.195312\n",
       "2650  34409.642375  34817.863281\n",
       "\n",
       "[901 rows x 2 columns]"
      ]
     },
     "execution_count": 15,
     "metadata": {},
     "output_type": "execute_result"
    }
   ],
   "source": [
    "predicted_data = df.filter(['Close'])\n",
    "\n",
    "train = predicted_data[: training_data_size]\n",
    "valid = predicted_data[training_data_size: ]\n",
    "valid['Predictions'] = predictions\n",
    "valid"
   ]
  },
  {
   "cell_type": "code",
   "execution_count": 24,
   "metadata": {},
   "outputs": [
    {
     "data": {
      "text/plain": [
       "[<matplotlib.lines.Line2D at 0x7ffaa9490e20>,\n",
       " <matplotlib.lines.Line2D at 0x7ffaa9490f10>]"
      ]
     },
     "execution_count": 24,
     "metadata": {},
     "output_type": "execute_result"
    },
    {
     "data": {
      "image/png": "[encoded data removed]",
      "text/plain": [
       "<Figure size 432x288 with 1 Axes>"
      ]
     },
     "metadata": {
      "needs_background": "light"
     },
     "output_type": "display_data"
    }
   ],
   "source": [
    "plt.plot(valid[['Close', 'Predictions']][:])"
   ]
  },
  {
   "cell_type": "code",
   "execution_count": 22,
   "metadata": {},
   "outputs": [
    {
     "data": {
      "text/plain": [
       "[<matplotlib.lines.Line2D at 0x7ffaa9243520>,\n",
       " <matplotlib.lines.Line2D at 0x7ffaa9243640>]"
      ]
     },
     "execution_count": 22,
     "metadata": {},
     "output_type": "execute_result"
    },
    {
     "data": {
      "image/png": "[encoded data removed]",
      "text/plain": [
       "<Figure size 432x288 with 1 Axes>"
      ]
     },
     "metadata": {
      "needs_background": "light"
     },
     "output_type": "display_data"
    }
   ],
   "source": [
    "plt.plot(valid[['Close', 'Predictions']][:100])"
   ]
  },
  {
   "cell_type": "code",
   "execution_count": 23,
   "metadata": {},
   "outputs": [
    {
     "data": {
      "text/plain": [
       "[<matplotlib.lines.Line2D at 0x7ffaa93acbb0>,\n",
       " <matplotlib.lines.Line2D at 0x7ffaa93acca0>]"
      ]
     },
     "execution_count": 23,
     "metadata": {},
     "output_type": "execute_result"
    },
    {
     "data": {
      "image/png": "[encoded data removed]",
      "text/plain": [
       "<Figure size 432x288 with 1 Axes>"
      ]
     },
     "metadata": {
      "needs_background": "light"
     },
     "output_type": "display_data"
    }
   ],
   "source": [
    "plt.plot(valid[['Close', 'Predictions']][-100:])"
   ]
  }
 ],
 "metadata": {
  "kernelspec": {
   "display_name": "Python 3",
   "language": "python",
   "name": "python3"
  },
  "language_info": {
   "codemirror_mode": {
    "name": "ipython",
    "version": 3
   },
   "file_extension": ".py",
   "mimetype": "text/x-python",
   "name": "python",
   "nbconvert_exporter": "python",
   "pygments_lexer": "ipython3",
   "version": "3.8.5"
  }
 },
 "nbformat": 4,
 "nbformat_minor": 4
}
